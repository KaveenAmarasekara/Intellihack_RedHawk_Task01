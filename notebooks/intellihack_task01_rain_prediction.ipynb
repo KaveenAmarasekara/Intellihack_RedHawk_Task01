{
 "cells": [
  {
   "cell_type": "markdown",
   "id": "8daedcb1-ffbb-42b0-a1d8-35a095918da9",
   "metadata": {},
   "source": [
    "# Weather Forecasting for Smart Agriculture\n",
    "This project aims to predict whether it will rain or not based on historical weather data. The dataset includes features like temperature, humidity, and wind speed."
   ]
  }
 ],
 "metadata": {
  "kernelspec": {
   "display_name": "Python 3 (ipykernel)",
   "language": "python",
   "name": "python3"
  },
  "language_info": {
   "codemirror_mode": {
    "name": "ipython",
    "version": 3
   },
   "file_extension": ".py",
   "mimetype": "text/x-python",
   "name": "python",
   "nbconvert_exporter": "python",
   "pygments_lexer": "ipython3",
   "version": "3.12.9"
  }
 },
 "nbformat": 4,
 "nbformat_minor": 5
}
