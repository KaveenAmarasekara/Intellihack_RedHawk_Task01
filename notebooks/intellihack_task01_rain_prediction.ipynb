{
  "cells": [
    {
      "cell_type": "markdown",
      "metadata": {
        "id": "view-in-github",
        "colab_type": "text"
      },
      "source": [
        "<a href=\"https://colab.research.google.com/github/KaveenAmarasekara/Intellihack_RedHawk_Task01/blob/main/notebooks/intellihack_task01_rain_prediction.ipynb\" target=\"_parent\"><img src=\"https://colab.research.google.com/assets/colab-badge.svg\" alt=\"Open In Colab\"/></a>"
      ]
    },
    {
      "cell_type": "markdown",
      "id": "8daedcb1-ffbb-42b0-a1d8-35a095918da9",
      "metadata": {
        "id": "8daedcb1-ffbb-42b0-a1d8-35a095918da9"
      },
      "source": [
        "# Weather Forecasting for Smart Agriculture\n",
        "This project aims to predict whether it will rain or not based on historical weather data. The dataset includes features like temperature, humidity, and wind speed."
      ]
    }
  ],
  "metadata": {
    "kernelspec": {
      "display_name": "Python 3 (ipykernel)",
      "language": "python",
      "name": "python3"
    },
    "language_info": {
      "codemirror_mode": {
        "name": "ipython",
        "version": 3
      },
      "file_extension": ".py",
      "mimetype": "text/x-python",
      "name": "python",
      "nbconvert_exporter": "python",
      "pygments_lexer": "ipython3",
      "version": "3.12.9"
    },
    "colab": {
      "provenance": [],
      "include_colab_link": true
    }
  },
  "nbformat": 4,
  "nbformat_minor": 5
}